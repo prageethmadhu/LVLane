{
 "cells": [
  {
   "cell_type": "code",
   "execution_count": 7,
   "metadata": {},
   "outputs": [
    {
     "name": "stdout",
     "output_type": "stream",
     "text": [
      "Extracted 968 frames into 49 sets with keyframes stored separately.\n"
     ]
    }
   ],
   "source": [
    "import cv2\n",
    "import os\n",
    "\n",
    "# Input video file\n",
    "video_path = \"C:\\\\Users\\\\Pragiya\\\\MSC_Research\\\\videos\\\\Redmi_Kottaww_athu_car\\\\VID_20250201_092431.mp4\"\n",
    "\n",
    "# Create main output folder\n",
    "output_folder = \"my_anno_all\\kotwa_athu_car5\"\n",
    "keyframes_folder = os.path.join(output_folder, \"keyframes\")\n",
    "os.makedirs(output_folder, exist_ok=True)\n",
    "os.makedirs(keyframes_folder, exist_ok=True)\n",
    "\n",
    "# Open video file\n",
    "cap = cv2.VideoCapture(video_path)\n",
    "frame_rate = int(cap.get(cv2.CAP_PROP_FPS))  # Get FPS\n",
    "frame_count = 0\n",
    "folder_count = 0\n",
    "image_count = 0\n",
    "current_folder = None\n",
    "\n",
    "# Function to create a new subfolder for every 20 images\n",
    "def create_new_folder():\n",
    "    global folder_count, current_folder\n",
    "    folder_count += 1\n",
    "    current_folder = os.path.join(output_folder, f\"set_{folder_count:03d}\")\n",
    "    os.makedirs(current_folder, exist_ok=True)\n",
    "\n",
    "# Initialize the first folder\n",
    "create_new_folder()\n",
    "\n",
    "while cap.isOpened():\n",
    "    ret, frame = cap.read()\n",
    "    if not ret:\n",
    "        break\n",
    "\n",
    "    # Resize frame to 720x1280\n",
    "    resized_frame = cv2.resize(frame, ( 1280,720))\n",
    "\n",
    "    # Save the frame\n",
    "    frame_filename = os.path.join(current_folder, f\"frame_{frame_count:04d}.jpg\")\n",
    "    cv2.imwrite(frame_filename, resized_frame)\n",
    "\n",
    "    image_count += 1\n",
    "    frame_count += 1\n",
    "\n",
    "    # If 20 images are saved in the current folder, create a new one\n",
    "    if image_count >= 20:\n",
    "        create_new_folder()\n",
    "        image_count = 0\n",
    "\n",
    "    # Detect keyframes (every 1 second or keyframe detection)\n",
    "    if frame_count % frame_rate == 0:  # Save one frame per second as keyframe\n",
    "        keyframe_filename = os.path.join(keyframes_folder, f\"keyframe_{frame_count:04d}.jpg\")\n",
    "        cv2.imwrite(keyframe_filename, resized_frame)\n",
    "\n",
    "cap.release()\n",
    "print(f\"Extracted {frame_count} frames into {folder_count} sets with keyframes stored separately.\")\n"
   ]
  }
 ],
 "metadata": {
  "kernelspec": {
   "display_name": "clean_env",
   "language": "python",
   "name": "python3"
  },
  "language_info": {
   "codemirror_mode": {
    "name": "ipython",
    "version": 3
   },
   "file_extension": ".py",
   "mimetype": "text/x-python",
   "name": "python",
   "nbconvert_exporter": "python",
   "pygments_lexer": "ipython3",
   "version": "3.8.20"
  }
 },
 "nbformat": 4,
 "nbformat_minor": 2
}
