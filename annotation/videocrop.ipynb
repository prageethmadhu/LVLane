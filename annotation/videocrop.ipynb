{
 "cells": [
  {
   "cell_type": "code",
   "execution_count": 6,
   "metadata": {},
   "outputs": [
    {
     "name": "stdout",
     "output_type": "stream",
     "text": [
      "Extracted keyframes from 5 videos into 13 folders.\n"
     ]
    }
   ],
   "source": [
    "import cv2\n",
    "import os\n",
    "\n",
    "# List of input video files\n",
    "video_paths = [\n",
    "    \"C:\\\\Users\\\\Pragiya\\\\MSC_Research\\\\videos\\\\Redmi_Kottaww_athu_car\\\\VID_20250201_085643.mp4\",\n",
    "    \"C:\\\\Users\\\\Pragiya\\\\MSC_Research\\\\videos\\\\Redmi_Kottaww_athu_car\\\\VID_20250201_092431.mp4\",\n",
    "    \"C:\\\\Users\\\\Pragiya\\\\MSC_Research\\\\videos\\\\Redmi_Kottaww_athu_car\\\\VID_20250201_092603.mp4\",\n",
    "    \"C:\\\\Users\\\\Pragiya\\\\MSC_Research\\\\videos\\\\Redmi_Kottaww_athu_car\\\\VID_20250201_092710.mp4\",\n",
    "    \"C:\\\\Users\\\\Pragiya\\\\MSC_Research\\\\videos\\\\Redmi_Kottaww_athu_car\\\\VID_20250201_092813.mp4\",\n",
    "    # Add more video file paths as needed\n",
    "]\n",
    "\n",
    "# Output folder\n",
    "output_folder = \"C:\\\\Users\\\\Pragiya\\\\MSC_Research\\\\LVLANE\\\\my_anno_all\\\\my_combined_key_frames\"\n",
    "\n",
    "os.makedirs(output_folder, exist_ok=True)\n",
    "\n",
    "frame_limit = 20  # Max keyframes per folder\n",
    "folder_count = -20  # Initialize folder index\n",
    "image_count = 0\n",
    "current_folder = None\n",
    "\n",
    "def create_new_folder():\n",
    "    global folder_count, current_folder, image_count\n",
    "    folder_count += 20\n",
    "    current_folder = os.path.join(output_folder, f\"{folder_count}\")\n",
    "    os.makedirs(current_folder, exist_ok=True)\n",
    "    image_count = 0  # Reset count for new folder\n",
    "\n",
    "# Initialize the first folder\n",
    "create_new_folder()\n",
    "\n",
    "for video_path in video_paths:\n",
    "    cap = cv2.VideoCapture(video_path)\n",
    "    frame_rate = int(cap.get(cv2.CAP_PROP_FPS))  # Get FPS\n",
    "    frame_count = 0\n",
    "    \n",
    "    while cap.isOpened():\n",
    "        ret, frame = cap.read()\n",
    "        if not ret:\n",
    "            break\n",
    "        \n",
    "        frame_count += 1\n",
    "        \n",
    "        # Save keyframes at 1-second intervals\n",
    "        if frame_count % frame_rate == 0:\n",
    "            # Resize frame to 1280x720\n",
    "            resized_frame = cv2.resize(frame, (1280, 720))\n",
    "            keyframe_filename = os.path.join(current_folder, f\"{image_count + 1}.jpg\")\n",
    "            cv2.imwrite(keyframe_filename, resized_frame)\n",
    "            image_count += 1\n",
    "            \n",
    "            # If folder has 20 keyframes, create a new one\n",
    "            if image_count >= frame_limit:\n",
    "                create_new_folder()\n",
    "    \n",
    "    cap.release()\n",
    "\n",
    "print(f\"Extracted keyframes from {len(video_paths)} videos into {folder_count//20 + 1} folders.\")\n"
   ]
  },
  {
   "cell_type": "code",
   "execution_count": 22,
   "metadata": {},
   "outputs": [
    {
     "name": "stderr",
     "output_type": "stream",
     "text": [
      "'jupyter-notebook' is not recognized as an internal or external command,\n",
      "operable program or batch file.\n"
     ]
    }
   ],
   "source": [
    "!jupyter notebook --generate-config\n"
   ]
  }
 ],
 "metadata": {
  "kernelspec": {
   "display_name": "clean_env",
   "language": "python",
   "name": "python3"
  },
  "language_info": {
   "codemirror_mode": {
    "name": "ipython",
    "version": 3
   },
   "file_extension": ".py",
   "mimetype": "text/x-python",
   "name": "python",
   "nbconvert_exporter": "python",
   "pygments_lexer": "ipython3",
   "version": "3.8.20"
  }
 },
 "nbformat": 4,
 "nbformat_minor": 2
}
